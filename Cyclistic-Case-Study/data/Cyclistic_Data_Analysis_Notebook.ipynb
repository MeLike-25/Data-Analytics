{
    "metadata": {
        "kernelspec": {
            "display_name": "Python 3",
            "language": "python",
            "name": "python3"
        },
        "language_info": {
            "codemirror_mode": {
                "name": "ipython",
                "version": 3
            },
            "file_extension": ".py",
            "mimetype": "text/x-python",
            "name": "python",
            "nbconvert_exporter": "python",
            "pygments_lexer": "ipython3",
            "version": "3.8.5"
        }
    },
    "nbformat_minor": 2,
    "nbformat": 4,
    "cells": [
        {
            "cell_type": "markdown",
            "source": [
                "# Data Analysis - Summary Tables Created from Master Table\n",
                "\n",
                "**\\---**\n",
                "\n",
                "**title: Cyclistic Data Analysis Case Study**\n",
                "\n",
                "**author: Sibeso Like**\n",
                "\n",
                "**date: July 21, 2025**\n",
                "\n",
                "**\\---**\n",
                "\n",
                "  \n",
                "\n",
                "<span style=\"color: var(--vscode-foreground);\">As part of the Exploratory Data Analysis (EDA) phase, a series of summary tables were created from the master dataset to uncover patterns, trends, and relationships in the data. These tables include metrics such as average ride duration by user type, number of rides per day of the week, and hourly ride distribution, among others. By aggregating and segmenting the data in meaningful ways, these EDA tables provide a foundational understanding of user behavior and help identify key insights that inform the final analysis and business recommendations.</span>"
            ],
            "metadata": {
                "azdata_cell_guid": "613ed6aa-b63a-492f-a030-1f21c96309d7"
            },
            "attachments": {}
        },
        {
            "cell_type": "markdown",
            "source": [
                "## Step 1: Trip Volume by User Type\n",
                "This step helps us understand the overall usage breakdown between casual riders and annual members."
            ],
            "metadata": {
                "azdata_cell_guid": "e9b5eab8-5815-457f-9d1d-c2172ac8ae87"
            }
        },
        {
            "cell_type": "code",
            "source": [
                "SELECT \n",
                "    member_casual,\n",
                "    COUNT(*) AS total_rides\n",
                "FROM master_dataset\n",
                "GROUP BY member_casual;"
            ],
            "metadata": {
                "azdata_cell_guid": "508ff360-cd37-463a-9a0d-cf7ac1f5d449",
                "language": "python"
            },
            "outputs": [],
            "execution_count": null
        },
        {
            "cell_type": "code",
            "source": [
                "-- Create a summary table for Trip Volume Usage by Type.\n",
                "SELECT \n",
                "    member_casual,\n",
                "    COUNT(*) AS total_rides\n",
                "INTO eda_rides_by_user_type\n",
                "FROM master_dataset\n",
                "GROUP BY member_casual;"
            ],
            "metadata": {
                "azdata_cell_guid": "ca786880-8259-43ad-9503-c9844e355e42",
                "language": "python"
            },
            "outputs": [],
            "execution_count": null
        },
        {
            "cell_type": "markdown",
            "source": [
                "## Step 2: Ride Duration Comparison\n",
                "This step examines the average and range of ride durations to identify behavioral differences in usage between user types."
            ],
            "metadata": {
                "azdata_cell_guid": "d6573795-a1e5-464a-aa93-36ea9bd863b3"
            }
        },
        {
            "cell_type": "code",
            "source": [
                "SELECT \n",
                "    member_casual,\n",
                "    COUNT(*) AS total_rides,\n",
                "    AVG(DATEDIFF(MINUTE, started_at, ended_at)) AS avg_duration_mins,\n",
                "    MIN(DATEDIFF(MINUTE, started_at, ended_at)) AS shortest_ride,\n",
                "    MAX(DATEDIFF(MINUTE, started_at, ended_at)) AS longest_ride\n",
                "INTO eda_duration_by_user_type\n",
                "FROM master_dataset\n",
                "GROUP BY member_casual;"
            ],
            "metadata": {
                "azdata_cell_guid": "e2578e49-04f1-403e-9672-8df79dc089d5",
                "language": "python"
            },
            "outputs": [],
            "execution_count": null
        },
        {
            "cell_type": "markdown",
            "source": [
                "## Step 3: Rides by Day of the Week (Per User Type)\n",
                "This step addresses:\n",
                "- Do casual riders ride more on weekends?\n",
                "- Do members ride more on weekdays (e.g., for commuting)?"
            ],
            "metadata": {
                "azdata_cell_guid": "2df1e627-a53d-418f-990a-39ac76d42e2c"
            }
        },
        {
            "cell_type": "code",
            "source": [
                "SELECT \n",
                "    member_casual,\n",
                "    DATENAME(WEEKDAY, started_at) AS day_of_week,\n",
                "    COUNT(*) AS total_rides\n",
                "INTO eda_rides_by_day_of_week\n",
                "FROM master_dataset\n",
                "GROUP BY member_casual, DATENAME(WEEKDAY, started_at);"
            ],
            "metadata": {
                "azdata_cell_guid": "47a1191a-b1c7-499e-9aae-aa12dd76d147",
                "language": "python"
            },
            "outputs": [],
            "execution_count": null
        },
        {
            "cell_type": "markdown",
            "source": [
                "## Step 4: Rides by Hour of the Day (Per User Type)\n",
                "This step investigates:\n",
                "- Do members ride more during rush hours (commutes)?\n",
                "- Do casual riders ride more during leisure hours (midday or evening)?"
            ],
            "metadata": {
                "azdata_cell_guid": "5cc15086-22fc-4b89-bfcc-58f51321eb31"
            }
        },
        {
            "cell_type": "code",
            "source": [
                "SELECT \n",
                "    member_casual,\n",
                "    DATEPART(HOUR, started_at) AS ride_hour,\n",
                "    COUNT(*) AS total_rides\n",
                "INTO eda_rides_by_hour\n",
                "FROM master_dataset\n",
                "GROUP BY member_casual, DATEPART(HOUR, started_at);"
            ],
            "metadata": {
                "azdata_cell_guid": "7d756f08-3a75-4f7c-8208-d30034dc6732",
                "language": "python"
            },
            "outputs": [],
            "execution_count": null
        },
        {
            "cell_type": "markdown",
            "source": [
                "## Step 5: Rideable Type Usage per User Type\n",
                "This step determines whether casual or member riders prefer a specific type of bike (e.g., electric vs. classic)."
            ],
            "metadata": {
                "azdata_cell_guid": "436ad700-0e4f-478d-a794-70f93dbc6ac5"
            }
        },
        {
            "cell_type": "code",
            "source": [
                "SELECT \n",
                "    member_casual,\n",
                "    rideable_type,\n",
                "    COUNT(*) AS total_rides\n",
                "INTO eda_rides_by_rideable_type\n",
                "FROM master_dataset\n",
                "GROUP BY member_casual, rideable_type;"
            ],
            "metadata": {
                "azdata_cell_guid": "17af066e-5d71-45ac-b842-44df70359271",
                "language": "python"
            },
            "outputs": [],
            "execution_count": null
        },
        {
            "cell_type": "markdown",
            "source": [
                "## Step 6: Most Common Start and End Stations by User Type\n",
                "This step identifies:\n",
                "- Which locations are most used by casual vs. member riders.\n",
                "- Whether casual users tend to start/stop in different places than members."
            ],
            "metadata": {
                "azdata_cell_guid": "72f8cb74-d12d-40bd-a611-9330a3bed6a8"
            }
        },
        {
            "cell_type": "code",
            "source": [
                "-- Create summary table for start_station_name\n",
                "SELECT \n",
                "    member_casual,\n",
                "    start_station_name,\n",
                "    COUNT(*) AS start_count\n",
                "INTO eda_top_start_stations\n",
                "FROM master_dataset\n",
                "GROUP BY member_casual, start_station_name;"
            ],
            "metadata": {
                "azdata_cell_guid": "46120742-7a4a-4fe1-a33d-1733d1a910ce",
                "language": "python"
            },
            "outputs": [],
            "execution_count": null
        },
        {
            "cell_type": "code",
            "source": [
                "-- Create summary table for end_station_name\n",
                "SELECT \n",
                "    member_casual,\n",
                "    end_station_name,\n",
                "    COUNT(*) AS end_count\n",
                "INTO eda_top_end_stations\n",
                "FROM master_dataset\n",
                "GROUP BY member_casual, end_station_name;"
            ],
            "metadata": {
                "azdata_cell_guid": "b78411c2-f350-40a8-ae44-63cfddd92dc8",
                "language": "python"
            },
            "outputs": [],
            "execution_count": null
        },
        {
            "cell_type": "markdown",
            "source": [
                "## Additional Queries for Insights\n",
                "The following queries retrieve results from the summary tables to gain deeper insights into user behavior."
            ],
            "metadata": {
                "azdata_cell_guid": "7c19a4c5-1b1c-4b5d-9ae6-cd6cb1e02c54"
            }
        },
        {
            "cell_type": "code",
            "source": [
                "-- 1. Rides by User Type – Ride totals per user type\n",
                "SELECT TOP (1000) [member_casual]\n",
                "      ,[total_rides]\n",
                "  FROM [Cyclistic_Case_Study].[dbo].[eda_rides_by_user_type]"
            ],
            "metadata": {
                "azdata_cell_guid": "41033244-8a9b-4a80-9aaa-58d0f2e4931c",
                "language": "python"
            },
            "outputs": [],
            "execution_count": null
        },
        {
            "cell_type": "code",
            "source": [
                "-- 2. Ride Duration by User Type – Avg, min, max ride durations\n",
                "SELECT TOP (1000) [member_casual]\n",
                "      ,[total_rides]\n",
                "      ,[avg_duration_mins]\n",
                "      ,[shortest_ride]\n",
                "      ,[longest_ride]\n",
                "  FROM [Cyclistic_Case_Study].[dbo].[eda_duration_by_user_type]"
            ],
            "metadata": {
                "azdata_cell_guid": "811a41e0-097c-4f46-b472-d8e91aa9d47e",
                "language": "python"
            },
            "outputs": [],
            "execution_count": null
        },
        {
            "cell_type": "code",
            "source": [
                "-- 3. Rides by Day of the Week – Ride volume by day for each user type\n",
                "SELECT \n",
                "    member_casual,\n",
                "    day_of_week,\n",
                "    total_rides\n",
                "FROM eda_rides_by_day_of_week\n",
                "ORDER BY \n",
                "    member_casual,\n",
                "    CASE \n",
                "        WHEN day_of_week = 'Monday' THEN 1\n",
                "        WHEN day_of_week = 'Tuesday' THEN 2\n",
                "        WHEN day_of_week = 'Wednesday' THEN 3\n",
                "        WHEN day_of_week = 'Thursday' THEN 4\n",
                "        WHEN day_of_week = 'Friday' THEN 5\n",
                "        WHEN day_of_week = 'Saturday' THEN 6\n",
                "        WHEN day_of_week = 'Sunday' THEN 7\n",
                "        ELSE 8\n",
                "    END;"
            ],
            "metadata": {
                "azdata_cell_guid": "9f3c885b-65ed-4db3-b960-3d77b639cb0b",
                "language": "python"
            },
            "outputs": [],
            "execution_count": null
        },
        {
            "cell_type": "code",
            "source": [
                "-- 4. Rides by Hour – Ride counts by hour of day per user type\n",
                "SELECT TOP (48) [member_casual]\n",
                "      ,[ride_hour]\n",
                "      ,[total_rides]\n",
                "  FROM [Cyclistic_Case_Study].[dbo].[eda_rides_by_hour];"
            ],
            "metadata": {
                "azdata_cell_guid": "fbcfa5b4-9d8a-4a4b-a5da-47cb77e435d3",
                "language": "python"
            },
            "outputs": [],
            "execution_count": null
        },
        {
            "cell_type": "code",
            "source": [
                "-- 5. Rideable Type Usage – Ride type usage by user type\n",
                "SELECT TOP (6) [member_casual]\n",
                "      ,[rideable_type]\n",
                "      ,[total_rides]\n",
                "  FROM [Cyclistic_Case_Study].[dbo].[eda_rides_by_rideable_type];"
            ],
            "metadata": {
                "azdata_cell_guid": "18bd3d1d-9917-4b9c-bf67-20214ce8a00c",
                "language": "python"
            },
            "outputs": [],
            "execution_count": null
        },
        {
            "cell_type": "code",
            "source": [
                "-- 6. Top Start Stations (Top 5–10 entries per user type)\n",
                "WITH RankedStartStations AS (\n",
                "    SELECT \n",
                "        member_casual,\n",
                "        start_station_name,\n",
                "        start_count,\n",
                "        RANK() OVER (PARTITION BY member_casual ORDER BY start_count DESC) AS station_rank\n",
                "    FROM eda_top_start_stations\n",
                ")\n",
                "SELECT \n",
                "    member_casual,\n",
                "    start_station_name,\n",
                "    start_count\n",
                "FROM RankedStartStations\n",
                "WHERE station_rank <= 10\n",
                "ORDER BY member_casual, station_rank;"
            ],
            "metadata": {
                "azdata_cell_guid": "142689b7-9888-4d06-8b2b-9974173a42a7",
                "language": "python"
            },
            "outputs": [],
            "execution_count": null
        },
        {
            "cell_type": "code",
            "source": [
                "-- 7. Top End Stations (Top 5–10 entries per user type)\n",
                "WITH RankedEndStations AS (\n",
                "    SELECT \n",
                "        member_casual,\n",
                "        end_station_name,\n",
                "        end_count,\n",
                "        RANK() OVER (PARTITION BY member_casual ORDER BY end_count DESC) AS station_rank\n",
                "    FROM eda_top_end_stations\n",
                ")\n",
                "SELECT \n",
                "    member_casual,\n",
                "    end_station_name,\n",
                "    end_count\n",
                "FROM RankedEndStations\n",
                "WHERE station_rank <= 10\n",
                "ORDER BY member_casual, station_rank;"
            ],
            "metadata": {
                "azdata_cell_guid": "e315758c-4dee-4d22-90e6-fcb87569c2e5",
                "language": "python"
            },
            "outputs": [],
            "execution_count": null
        },
        {
            "cell_type": "markdown",
            "source": [
                "## Summary of Data Analysis Procedures\n",
                "\n",
                "The table below summarizes the data analysis procedures conducted in this EDA process.\n",
                "\n",
                "| Step | Analysis Procedure | Description | Summary Table Created |\n",
                "| --- | --- | --- | --- |\n",
                "| 1 | Trip Volume by User Type | Analyzed the total number of rides per user type (casual vs. member). | eda\\_rides\\_by\\_user\\_type |\n",
                "| 2 | Ride Duration Comparison | Compared average, minimum, and maximum ride durations between user types. | eda\\_duration\\_by\\_user\\_type |\n",
                "| 3 | Rides by Day of the Week | Examined ride volume by day of the week for each user type to identify commuting vs. leisure patterns. | eda\\_rides\\_by\\_day\\_of\\_week |\n",
                "| 4 | Rides by Hour of the Day | Analyzed ride counts by hour to identify peak usage times for each user type. | eda\\_rides\\_by\\_hour |\n",
                "| 5 | Rideable Type Usage | Investigated preferences for bike types (e.g., electric vs. classic) by user type. | eda\\_rides\\_by\\_rideable\\_type |\n",
                "| 6 | Most Common Start and End Stations | Identified the most frequently used start and end stations for each user type. | eda\\_top\\_start\\_stations, eda\\_top\\_end\\_stations |"
            ],
            "metadata": {
                "azdata_cell_guid": "1a199d88-d589-4d61-a5e8-dfcec96bfc51"
            },
            "attachments": {}
        }
    ]
}
