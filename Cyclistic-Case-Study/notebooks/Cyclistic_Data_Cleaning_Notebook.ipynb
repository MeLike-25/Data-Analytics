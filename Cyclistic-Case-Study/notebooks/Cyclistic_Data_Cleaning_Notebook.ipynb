{
    "metadata": {
        "kernelspec": {
            "name": "SQL",
            "display_name": "SQL",
            "language": "sql"
        },
        "language_info": {
            "name": "sql",
            "version": ""
        }
    },
    "nbformat_minor": 2,
    "nbformat": 4,
    "cells": [
        {
            "cell_type": "markdown",
            "source": [
                "# Data Cleaning & Manipulation\n",
                "\n",
                "**\\---**  \n",
                "\n",
                "**title: Cyclistic Data Analysis Case Study**\n",
                "\n",
                "**author: Sibeso Like**\n",
                "\n",
                "**date: July 21, 2025**\n",
                "\n",
                "**\\---**\n",
                "\n",
                "Before conducting meaningful analysis, the raw data underwent a comprehensive cleaning process to ensure accuracy, consistency, and reliability. This step was essential for handling missing values, correcting data types, standardizing station IDs, and generating new features such as ride duration, day of the week, and hour of ride start. All cleaning operations were executed using **SQL Server**, following best practices for data preprocessing to prepare the dataset for accurate analysis and visualization."
            ],
            "metadata": {
                "azdata_cell_guid": "e1890c97-6bd5-481d-9427-591f567f8848"
            },
            "attachments": {}
        },
        {
            "cell_type": "markdown",
            "source": [
                "## Master Table Structure\n",
                "The master table, `master_dataset`, was created to merge all 12 datasets. Below is its structure:"
            ],
            "metadata": {
                "azdata_cell_guid": "75abaf2c-1f35-4d1a-8cda-6aaa9c09a246"
            }
        },
        {
            "cell_type": "code",
            "source": [
                "-- Master table structure\n",
                "COLUMN_NAME             DATA_TYPE       CHARACTER_MAXIMUM_LENGTH    IS_NULLABLE\n",
                "ride_id                varchar         75                         NO\n",
                "rideable_type          varchar         255                        YES\n",
                "started_at             smalldatetime   NULL                       YES\n",
                "ended_at               smalldatetime   NULL                       YES\n",
                "start_station_name     varchar         255                        YES\n",
                "start_station_id       varchar         40                         YES\n",
                "end_station_name       varchar         255                        YES\n",
                "end_station_id         varchar         100                        YES\n",
                "start_lat              decimal         NULL                       YES\n",
                "start_lng              decimal         NULL                       YES\n",
                "end_lat                decimal         NULL                       YES\n",
                "end_lng                decimal         NULL                       YES\n",
                "member_casual          varchar         20                         NO"
            ],
            "metadata": {
                "azdata_cell_guid": "c72b54ed-d3b1-4f27-86ba-ae88e18cca67",
                "language": "sql"
            },
            "outputs": [],
            "execution_count": null
        },
        {
            "cell_type": "markdown",
            "source": [
                "## Data Preview\n",
                "To inspect the data, the first 1000 rows of the master table were selected."
            ],
            "metadata": {
                "azdata_cell_guid": "0fe563de-e13b-4aee-91c0-96bc4c4b3986"
            }
        },
        {
            "cell_type": "code",
            "source": [
                "SELECT TOP (1000) [ride_id]\n",
                "      ,[rideable_type]\n",
                "      ,[started_at]\n",
                "      ,[ended_at]\n",
                "      ,[start_station_name]\n",
                "      ,[start_station_id]\n",
                "      ,[end_station_name]\n",
                "      ,[end_station_id]\n",
                "      ,[start_lat]\n",
                "      ,[start_lng]\n",
                "      ,[end_lat]\n",
                "      ,[end_lng]\n",
                "      ,[member_casual]\n",
                "  FROM [Cyclistic_Case_Study].[dbo].[master_dataset];"
            ],
            "metadata": {
                "azdata_cell_guid": "7ebdd91d-10ca-4dcf-a659-154f7434bd65",
                "language": "sql"
            },
            "outputs": [],
            "execution_count": null
        },
        {
            "cell_type": "markdown",
            "source": [
                "## Data Import and Consolidation\n",
                "Each dataset was inserted into the `master_dataset` table, ensuring no duplicate `ride_id` entries."
            ],
            "metadata": {
                "azdata_cell_guid": "c52d72f4-3aee-4f58-897d-cfa5665063fb"
            }
        },
        {
            "cell_type": "code",
            "source": [
                "INSERT INTO master_dataset\n",
                "SELECT *\n",
                "FROM dataset_1\n",
                "WHERE ride_id NOT IN (\n",
                "    SELECT ride_id FROM master_dataset\n",
                ");"
            ],
            "metadata": {
                "azdata_cell_guid": "262bd811-aa3e-480d-81ce-f1aff19b3b97",
                "language": "sql"
            },
            "outputs": [],
            "execution_count": null
        },
        {
            "cell_type": "markdown",
            "source": [
                "### Handling Import Issues for October 2024 Dataset\n",
                "The `202410-divvy-tripdata` dataset had data entry errors, preventing standard import. A `BULK INSERT` was used, and affected columns were temporarily altered to `VARCHAR` to accommodate the data."
            ],
            "metadata": {
                "azdata_cell_guid": "1938189f-61d7-4b8e-a3d6-7c4c253b73d4"
            }
        },
        {
            "cell_type": "code",
            "source": [
                "BULK INSERT dataset_4\n",
                "FROM 'C:\\Users\\mmnja\\OneDrive\\Documents\\My Docs\\DATA ANALYTICS\\Google Sheet CSV Files\\202410-divvy-tripdata.csv'\n",
                "WITH (\n",
                "    FIELDTERMINATOR = ',',\n",
                "    ROWTERMINATOR = '\\n',\n",
                "    FIRSTROW = 2, \n",
                "    TABLOCK\n",
                ");\n",
                "\n",
                "ALTER TABLE dataset_4\n",
                "ALTER COLUMN started_at VARCHAR(255) null;\n",
                "ALTER TABLE dataset_4\n",
                "ALTER COLUMN ended_at VARCHAR(255);\n",
                "ALTER TABLE dataset_4\n",
                "ALTER COLUMN end_lng VARCHAR(255) null;"
            ],
            "metadata": {
                "azdata_cell_guid": "c9d2e2d3-0cf5-4980-adc1-94393a720459",
                "language": "sql"
            },
            "outputs": [],
            "execution_count": null
        },
        {
            "cell_type": "markdown",
            "source": [
                "### Cleaning `dataset_4`\n",
                "Quotes were removed from specific columns, and the columns were converted back to their original data types before inserting into the master table."
            ],
            "metadata": {
                "azdata_cell_guid": "3cdca1e8-44d3-435a-85bf-9b165b16b30c"
            }
        },
        {
            "cell_type": "code",
            "source": [
                "UPDATE dataset_4\n",
                "SET ride_id = REPLACE(TRIM(ride_id), '\"', '');\n",
                "GO\n",
                "UPDATE dataset_4\n",
                "SET rideable_type = REPLACE(TRIM(rideable_type), '\"', '');\n",
                "GO\n",
                "UPDATE dataset_4\n",
                "SET started_at = REPLACE(TRIM(started_at), '\"', '');\n",
                "GO\n",
                "UPDATE dataset_4\n",
                "SET ended_at = REPLACE(TRIM(ended_at), '\"', '');\n",
                "GO\n",
                "UPDATE dataset_4\n",
                "SET member_casual = REPLACE(TRIM(member_casual), '\"', '');\n",
                "\n",
                "ALTER TABLE dataset_4\n",
                "ALTER COLUMN started_at smalldatetime;\n",
                "ALTER TABLE dataset_4\n",
                "ALTER COLUMN ended_at smalldatetime;\n",
                "ALTER TABLE dataset_4\n",
                "ALTER COLUMN end_lng DECIMAL(16,13);\n",
                "\n",
                "INSERT INTO master_dataset\n",
                "SELECT *\n",
                "FROM dataset_4\n",
                "WHERE ride_id NOT IN (\n",
                "    SELECT ride_id FROM master_dataset\n",
                ");"
            ],
            "metadata": {
                "azdata_cell_guid": "e6c2720f-4e73-411e-a8d7-c19ebb84e1aa",
                "language": "sql"
            },
            "outputs": [],
            "execution_count": null
        },
        {
            "cell_type": "markdown",
            "source": [
                "## Data Cleaning in Master Dataset\n",
                "With all datasets consolidated, cleaning was performed on the `master_dataset`."
            ],
            "metadata": {
                "azdata_cell_guid": "01bd9f8f-4611-489c-9a7b-7caca0efbfc7"
            }
        },
        {
            "cell_type": "markdown",
            "source": [
                "### Removing Duplicates\n",
                "Duplicate `ride_id` entries were removed using a CTE."
            ],
            "metadata": {
                "azdata_cell_guid": "cb397af3-4f99-4599-8016-5f218166a260"
            }
        },
        {
            "cell_type": "code",
            "source": [
                "WITH RankedDuplicates AS (\n",
                "    SELECT *,\n",
                "           ROW_NUMBER() OVER (PARTITION BY ride_id ORDER BY (SELECT NULL)) AS rn\n",
                "    FROM master_dataset\n",
                ")\n",
                "DELETE FROM RankedDuplicates\n",
                "WHERE rn > 1;"
            ],
            "metadata": {
                "azdata_cell_guid": "9be99dca-92a7-4c72-a58d-4261ef6accdf",
                "language": "sql"
            },
            "outputs": [],
            "execution_count": null
        },
        {
            "cell_type": "markdown",
            "source": [
                "### Setting Primary Key\n",
                "The `ride_id` column was set as the primary key."
            ],
            "metadata": {
                "azdata_cell_guid": "e4c4912b-29e2-42db-80a1-1e1d8c03fc3e"
            }
        },
        {
            "cell_type": "code",
            "source": [
                "ALTER TABLE master_dataset\n",
                "ADD CONSTRAINT PK_master_dataset_ride_id PRIMARY KEY (ride_id);"
            ],
            "metadata": {
                "azdata_cell_guid": "68a41be8-32b5-46ae-a1e4-670fdb932ef5",
                "language": "sql"
            },
            "outputs": [],
            "execution_count": null
        },
        {
            "cell_type": "markdown",
            "source": [
                "### Adding Indexes\n",
                "Indexes were created to optimize query performance for filtering and grouping."
            ],
            "metadata": {
                "azdata_cell_guid": "55aa387b-da73-4c2c-a03c-e0f2c9e3af04"
            }
        },
        {
            "cell_type": "code",
            "source": [
                "CREATE INDEX idx_started_at ON master_dataset(started_at);\n",
                "CREATE INDEX idx_ended_at ON master_dataset(ended_at);\n",
                "GO\n",
                "CREATE INDEX idx_start_station_id ON master_dataset(start_station_id);\n",
                "CREATE INDEX idx_end_station_id ON master_dataset(end_station_id);\n",
                "GO\n",
                "CREATE INDEX idx_member_casual ON master_dataset(member_casual);"
            ],
            "metadata": {
                "azdata_cell_guid": "dde8ece9-a934-4e78-ac38-55cf230e569e",
                "language": "sql"
            },
            "outputs": [],
            "execution_count": null
        },
        {
            "cell_type": "markdown",
            "source": [
                "### Removing NULL Values\n",
                "Rows with NULL values in critical columns were deleted."
            ],
            "metadata": {
                "azdata_cell_guid": "7b3d4459-6b3b-4e11-9b4e-9da26c8609d3"
            }
        },
        {
            "cell_type": "code",
            "source": [
                "DELETE FROM master_dataset\n",
                "WHERE started_at IS NULL\n",
                "   OR ended_at IS NULL\n",
                "   OR start_station_name IS NULL\n",
                "   OR start_station_id IS NULL\n",
                "   OR end_station_name IS NULL\n",
                "   OR end_station_id IS NULL;"
            ],
            "metadata": {
                "azdata_cell_guid": "5b58e734-7ffc-430e-a4ec-1c1a9eb136c9",
                "language": "sql"
            },
            "outputs": [],
            "execution_count": null
        },
        {
            "cell_type": "markdown",
            "source": [
                "### Validating Date Ranges\n",
                "The earliest and latest dates in `started_at` and `ended_at` were checked for anomalies."
            ],
            "metadata": {
                "azdata_cell_guid": "9d0b75d7-2376-492c-b607-7f67e2fe54ad"
            }
        },
        {
            "cell_type": "code",
            "source": [
                "SELECT MIN(started_at) AS EarliestDate, MAX(started_at) AS LatestDate FROM master_dataset;\n",
                "SELECT MIN(ended_at) AS EarliestDate, MAX(ended_at) AS LatestDate FROM master_dataset;\n",
                "SELECT * FROM master_dataset WHERE started_at='1900-01-01';\n",
                "SELECT * FROM master_dataset WHERE ended_at ='1900-01-01';\n",
                "SELECT * FROM master_dataset WHERE started_at > GETDATE();"
            ],
            "metadata": {
                "azdata_cell_guid": "bc8dfba9-d5fb-4f56-8a04-793f1d9fa69c",
                "language": "sql"
            },
            "outputs": [],
            "execution_count": null
        },
        {
            "cell_type": "markdown",
            "source": [
                "### Handling Station ID Formats\n",
                "Inconsistent `start_station_id` and `end_station_id` formats were identified and corrected."
            ],
            "metadata": {
                "azdata_cell_guid": "51326f93-b000-4612-8b3b-e3d1bb236050"
            }
        },
        {
            "cell_type": "code",
            "source": [
                "SELECT \n",
                "  CASE\n",
                "    WHEN start_station_id LIKE '[A-Z]%' THEN 'Starts with Letter'\n",
                "    WHEN start_station_id LIKE '[0-9]%' THEN 'Starts with Number'\n",
                "    ELSE 'Other/Irregular'\n",
                "  END AS FormatType,\n",
                "  COUNT(*) AS Count\n",
                "FROM master_dataset\n",
                "GROUP BY \n",
                "  CASE\n",
                "    WHEN start_station_id LIKE '[A-Z]%' THEN 'Starts with Letter'\n",
                "    WHEN start_station_id LIKE '[0-9]%' THEN 'Starts with Number'\n",
                "    ELSE 'Other/Irregular'\n",
                "  END;\n",
                "\n",
                "ALTER TABLE master_dataset \n",
                "ADD start_station_id_format_issue varchar (40);\n",
                "\n",
                "UPDATE master_dataset\n",
                "SET start_station_id_format_issue = \n",
                "  CASE\n",
                "    WHEN start_station_id LIKE '[A-Z][A-Z][0-9]%' \n",
                "         AND start_station_id NOT LIKE '%[^A-Z0-9]%' \n",
                "         AND LEN(start_station_id) >= 8\n",
                "      THEN 'OK'\n",
                "    WHEN start_station_id LIKE '[0-9]%' THEN 'Number'\n",
                "    ELSE 'Other'\n",
                "  END;\n",
                "\n",
                "ALTER TABLE master_dataset \n",
                "ADD end_station_id_format_issue varchar (40);\n",
                "\n",
                "UPDATE master_dataset\n",
                "SET end_station_id_format_issue = \n",
                "  CASE\n",
                "    WHEN end_station_id LIKE '[A-Z][A-Z][0-9]%' \n",
                "         AND end_station_id NOT LIKE '%[^A-Z0-9]%' \n",
                "         AND LEN(end_station_id) >= 8\n",
                "      THEN 'OK'\n",
                "    WHEN end_station_id LIKE '[0-9]%' THEN 'Number'\n",
                "    ELSE 'Other'\n",
                "  END;\n",
                "\n",
                "DELETE FROM master_dataset WHERE start_station_id_format_issue != 'OK' OR end_station_id_format_issue != 'OK';\n",
                "\n",
                "ALTER TABLE master_dataset\n",
                "DROP COLUMN start_station_id_format_issue, end_station_id_format_issue;"
            ],
            "metadata": {
                "azdata_cell_guid": "a16598e3-1c7c-4c2d-85ed-62d6c89a699c",
                "language": "sql"
            },
            "outputs": [],
            "execution_count": null
        },
        {
            "cell_type": "markdown",
            "source": [
                "### Validating Coordinates\n",
                "Coordinates with incorrect formats were checked and removed."
            ],
            "metadata": {
                "azdata_cell_guid": "b1b32113-47d7-4e9a-b68f-1a70d6baa5f7"
            }
        },
        {
            "cell_type": "code",
            "source": [
                "SELECT *\n",
                "FROM master_dataset\n",
                "WHERE\n",
                "    LEN(CAST(FLOOR(ABS(start_lat)) AS VARCHAR)) > 2\n",
                "    OR LEN(CAST(FLOOR(ABS(end_lat)) AS VARCHAR)) > 2\n",
                "    OR LEN(CAST(FLOOR(ABS(start_lng)) AS VARCHAR)) > 2\n",
                "    OR LEN(CAST(FLOOR(ABS(end_lng)) AS VARCHAR)) > 2;\n",
                "\n",
                "DELETE FROM master_dataset\n",
                "WHERE\n",
                "    FORMAT(start_lat, '0.0000000000000') LIKE '%0000000'\n",
                "    OR FORMAT(end_lat,   '0.0000000000000') LIKE '%0000000'\n",
                "    OR FORMAT(start_lng, '0.0000000000000') LIKE '%0000000'\n",
                "    OR FORMAT(end_lng,   '0.0000000000000') LIKE '%0000000';"
            ],
            "metadata": {
                "azdata_cell_guid": "71523713-098a-4ac5-8a8e-ff18bdb581cf",
                "language": "sql"
            },
            "outputs": [],
            "execution_count": null
        },
        {
            "cell_type": "markdown",
            "source": [
                "### Handling Typographical Errors\n",
                "Columns were checked for typos and extra spaces, with trimming applied where necessary."
            ],
            "metadata": {
                "azdata_cell_guid": "c44779d7-67d0-4aff-ba9b-c1a5a50eecf5"
            }
        },
        {
            "cell_type": "code",
            "source": [
                "SELECT DISTINCT member_casual, \n",
                "       LEN(member_casual) AS ActualLength,\n",
                "       DATALENGTH(member_casual) AS ByteLength,\n",
                "       '[' + member_casual + ']' AS ValuePreview\n",
                "FROM master_dataset\n",
                "ORDER BY member_casual;\n",
                "\n",
                "UPDATE master_dataset\n",
                "SET member_casual = LTRIM(RTRIM(member_casual));\n",
                "\n",
                "UPDATE master_dataset\n",
                "SET rideable_type = LTRIM(RTRIM(rideable_type));\n",
                "GO\n",
                "UPDATE Cyclistic_Case_Study.dbo.master_dataset\n",
                "SET start_station_name = LTRIM(RTRIM(start_station_name));\n",
                "GO\n",
                "UPDATE Cyclistic_Case_Study.dbo.master_dataset\n",
                "SET end_station_name = LTRIM(RTRIM(end_station_name));\n",
                "GO\n",
                "UPDATE Cyclistic_Case_Study.dbo.master_dataset\n",
                "SET start_station_id = LTRIM(RTRIM(start_station_id));\n",
                "GO\n",
                "UPDATE Cyclistic_Case_Study.dbo.master_dataset\n",
                "SET end_station_id = LTRIM(RTRIM(end_station_id));"
            ],
            "metadata": {
                "azdata_cell_guid": "da32accf-06b9-48b6-b87d-cb59fb6f4332",
                "language": "sql"
            },
            "outputs": [],
            "execution_count": null
        },
        {
            "cell_type": "markdown",
            "source": [
                "### Correcting Station Name Typos\n",
                "Specific typos in station names were corrected."
            ],
            "metadata": {
                "azdata_cell_guid": "cdefc264-99c8-415f-8cc0-45c83074451d"
            }
        },
        {
            "cell_type": "code",
            "source": [
                "SELECT DISTINCT start_station_name \n",
                "FROM Cyclistic_Case_Study.dbo.master_dataset \n",
                "ORDER BY start_station_name;\n",
                "SELECT DISTINCT end_station_name \n",
                "FROM Cyclistic_Case_Study.dbo.master_dataset \n",
                "ORDER BY end_station_name;\n",
                "\n",
                "UPDATE Cyclistic_Case_Study.dbo.master_dataset\n",
                "SET end_station_name = 'Damen Ave & Thomas St' WHERE end_station_name='Damen Ave & Thomas St (Augusta Blvd)';\n",
                "UPDATE Cyclistic_Case_Study.dbo.master_dataset\n",
                "SET end_station_name = 'Damen Ave & Walnut St' WHERE end_station_name='Damen Ave & Walnut (Lake) St';"
            ],
            "metadata": {
                "azdata_cell_guid": "fd5d098c-9528-4b71-a1f7-0600d5f85e1a",
                "language": "sql"
            },
            "outputs": [],
            "execution_count": null
        },
        {
            "cell_type": "markdown",
            "source": [
                "### Trip Duration Validation\n",
                "Trips with invalid durations (zero, negative, or excessively long) were removed."
            ],
            "metadata": {
                "azdata_cell_guid": "118fe290-3518-45e5-9c2b-35bb245a7f29"
            }
        },
        {
            "cell_type": "code",
            "source": [
                "SELECT *\n",
                "FROM Cyclistic_Case_Study.dbo.master_dataset\n",
                "WHERE DATEDIFF(MINUTE, started_at, ended_at) <= 0;\n",
                "\n",
                "DELETE FROM Cyclistic_Case_Study.dbo.master_dataset\n",
                "WHERE DATEDIFF(MINUTE, started_at, ended_at) <=0;\n",
                "\n",
                "SELECT *\n",
                "FROM Cyclistic_Case_Study.dbo.master_dataset\n",
                "WHERE DATEDIFF(HOUR, started_at, ended_at) >= 24;\n",
                "\n",
                "DELETE FROM Cyclistic_Case_Study.dbo.master_dataset\n",
                "WHERE DATEDIFF(HOUR, started_at, ended_at) >= 24;\n",
                "\n",
                "SELECT *\n",
                "FROM Cyclistic_Case_Study.dbo.master_dataset\n",
                "WHERE ended_at <= started_at;"
            ],
            "metadata": {
                "azdata_cell_guid": "827cb41c-0d7d-44f4-9a04-4cb802e8ece0",
                "language": "sql"
            },
            "outputs": [],
            "execution_count": null
        },
        {
            "cell_type": "markdown",
            "source": [
                "### Removing Short Loop Trips\n",
                "Trips where the start and end stations were the same with durations under 5 minutes were removed, as they likely represent test rides or errors."
            ],
            "metadata": {
                "azdata_cell_guid": "5b258e39-d88c-46c4-8cd2-f0e11026a078"
            }
        },
        {
            "cell_type": "code",
            "source": [
                "SELECT *\n",
                "FROM Cyclistic_Case_Study.dbo.master_dataset\n",
                "WHERE start_station_name = end_station_name\n",
                "  AND DATEDIFF(MINUTE, started_at, ended_at) < 5\n",
                "  AND start_station_name IS NOT NULL;\n",
                "\n",
                "DELETE FROM Cyclistic_Case_Study.dbo.master_dataset\n",
                "WHERE start_station_name = end_station_name\n",
                "  AND DATEDIFF(MINUTE, started_at, ended_at) < 5;"
            ],
            "metadata": {
                "azdata_cell_guid": "69314320-b1a7-4873-b194-52988a8e1d15",
                "language": "sql"
            },
            "outputs": [],
            "execution_count": null
        },
        {
            "cell_type": "markdown",
            "source": [
                "## Summary of Data Cleaning Procedures\n",
                "The following table summarizes the data cleaning steps performed on the Cyclistic dataset.\n",
                "\n",
                "| Step | Description | Outcome |\n",
                "|------|-------------|---------|\n",
                "| Data Import | Imported 12 CSV files into separate SQL tables, consolidated into `master_dataset`. | 12 tables merged, `dataset_4` imported via `BULK INSERT` due to errors. |\n",
                "| Remove Duplicates | Used CTE to delete duplicate `ride_id` entries. | Ensured unique `ride_id` values. |\n",
                "| Set Primary Key | Set `ride_id` as primary key. | Enforced data integrity. |\n",
                "| Add Indexes | Created indexes on `started_at`, `ended_at`, `start_station_id`, `end_station_id`, and `member_casual`. | Improved query performance. |\n",
                "| Remove NULLs | Deleted rows with NULL values in critical columns. | Ensured complete data for analysis. |\n",
                "| Validate Dates | Checked `started_at` and `ended_at` for anomalies (e.g., future dates, 1900-01-01). | No invalid dates found. |\n",
                "| Fix Station IDs | Flagged and removed invalid `start_station_id` and `end_station_id` formats. | Ensured consistent station ID formats. |\n",
                "| Validate Coordinates | Removed rows with invalid coordinates (e.g., excessive zeros). | Ensured valid geographic data. |\n",
                "| Trim Spaces | Trimmed extra spaces from `member_casual`, `rideable_type`, `start_station_name`, `end_station_name`, `start_station_id`, `end_station_id`. | Standardized categorical data. |\n",
                "| Fix Typos | Corrected station name typos (e.g., removed extra descriptors). | Improved station name consistency. |\n",
                "| Validate Trip Duration | Removed trips with zero/negative durations (<3040 rows) and durations >24 hours (9 rows). | Eliminated invalid trips. |\n",
                "| Remove Short Loops | Deleted trips with same start/end station and duration <5 minutes (>9000 rows). | Removed likely test rides or errors. |"
            ],
            "metadata": {
                "azdata_cell_guid": "bb23bce5-6923-4815-bc73-32002c61971d"
            }
        }
    ]
}
